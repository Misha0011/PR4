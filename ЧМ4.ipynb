{
 "cells": [
  {
   "cell_type": "code",
   "execution_count": 2,
   "id": "6ba79e21-344c-46b2-aa9d-7ca83f4f6aa0",
   "metadata": {},
   "outputs": [
    {
     "name": "stdout",
     "output_type": "stream",
     "text": [
      "[[14 24 30]\n",
      " [ 0 14 24]\n",
      " [ 0  0 14]]\n"
     ]
    }
   ],
   "source": [
    "import numpy as np \n",
    "a_arr = np.array([[1, 1, 1], [0, 1, 1], [0, 0, 1]])\n",
    "b_arr = np.array([[7, 5, 3], [0, 7, 5], [0, 0, 7]])\n",
    "c = b_arr.dot(a_arr) + a_arr.dot(b_arr) \n",
    "\n",
    "print(c)\n"
   ]
  },
  {
   "cell_type": "code",
   "execution_count": 3,
   "id": "364bef37-2eb0-4147-bfef-c7fe7cec29a4",
   "metadata": {},
   "outputs": [
    {
     "name": "stdout",
     "output_type": "stream",
     "text": [
      "[[25  0  0  0]\n",
      " [ 0  4  0  0]\n",
      " [ 0  0  9  0]\n",
      " [ 0  0  0  4]]\n"
     ]
    }
   ],
   "source": [
    "import numpy as np \n",
    "arr = np.array([[5,0,0,0], [0, -2,0,0],[0,0,3,0],[0,0,0,2]])\n",
    "power= np.dot(arr,arr)\n",
    "print(power) \n"
   ]
  },
  {
   "cell_type": "code",
   "execution_count": 4,
   "id": "53c3218c-7ef0-44fc-b038-815427961b10",
   "metadata": {},
   "outputs": [
    {
     "name": "stdout",
     "output_type": "stream",
     "text": [
      "[31 12  9]\n"
     ]
    }
   ],
   "source": [
    "matrix_1 = np.array([[3,0,7], [-4,2,3],[-1,1,2]])\n",
    "matrix_2 = np.array([1,2,4])\n",
    "matrix_3 = matrix_1.dot(matrix_2)\n",
    "print(matrix_3) \n",
    "\n"
   ]
  },
  {
   "cell_type": "code",
   "execution_count": 5,
   "id": "067e7a9e-1195-47a9-8887-a57136ba92a5",
   "metadata": {},
   "outputs": [
    {
     "name": "stdout",
     "output_type": "stream",
     "text": [
      "12\n"
     ]
    }
   ],
   "source": [
    "import numpy as np \n",
    "arr_a = np.array([[0, 2, 0], [3, 4, 5], [6, 7, 8]])\n",
    "a_det = np.linalg.det(arr_a)\n",
    "print(format(a_det,'.9g')) \n"
   ]
  },
  {
   "cell_type": "code",
   "execution_count": 6,
   "id": "7871b217-bcbe-4d5b-b4e9-fe0277c75f94",
   "metadata": {},
   "outputs": [
    {
     "name": "stdout",
     "output_type": "stream",
     "text": [
      "-160\n"
     ]
    }
   ],
   "source": [
    "import numpy as np \n",
    "a_arr = np.array([[2,3,4,1], [1,2,3,4], [3,4,1,2], [4,1,2,3]])\n",
    "a_det = np.linalg.det(a_arr)\n",
    "print(format(a_det,'.9g'))\n"
   ]
  },
  {
   "cell_type": "code",
   "execution_count": 7,
   "id": "4dad18ca-b996-4721-a092-24fd0e6eaf2a",
   "metadata": {},
   "outputs": [
    {
     "name": "stdout",
     "output_type": "stream",
     "text": [
      "[[  1.  -1.   1.]\n",
      " [-38.  41. -34.]\n",
      " [ 27. -29.  24.]]\n"
     ]
    }
   ],
   "source": [
    " a = np.array([[2, 5, 7], [6, 3, 4], [5, -2, -3]])\n",
    "a_inv = np.linalg.inv(a) \n",
    "print(a_inv)\n"
   ]
  },
  {
   "cell_type": "code",
   "execution_count": 8,
   "id": "751c189b-5b7c-4b54-9c3c-307166087075",
   "metadata": {},
   "outputs": [
    {
     "name": "stdout",
     "output_type": "stream",
     "text": [
      "4\n"
     ]
    }
   ],
   "source": [
    "aa = np.array([[2,-1,3,4], [0,-1,2,1], [1,1,-1,2], [2,3,-5,3]])\n",
    "rank = np.linalg.matrix_rank(aa) \n",
    "print(rank) "
   ]
  },
  {
   "cell_type": "code",
   "execution_count": 9,
   "id": "e8c985c8-ad0e-43d1-8a05-9201c3423560",
   "metadata": {},
   "outputs": [
    {
     "name": "stdout",
     "output_type": "stream",
     "text": [
      "A= [[4 1 4]\n",
      " [1 1 2]\n",
      " [2 1 2]]\n",
      "B= [[-2]\n",
      " [-2]\n",
      " [ 0]]\n",
      "[[-1.66533454e-16 -1.00000000e+00  1.00000000e+00]\n",
      " [-1.00000000e+00 -2.96059473e-16  2.00000000e+00]\n",
      " [ 5.00000000e-01  1.00000000e+00 -1.50000000e+00]]\n",
      "X= [[ 2.]\n",
      " [ 2.]\n",
      " [-3.]]\n"
     ]
    }
   ],
   "source": [
    "A = np.matrix('4 1 4; 1 1 2; 2 1 2')\n",
    "B = np.matrix('-2; -2; 0')\n",
    "print('A=', A)\n",
    "print('B=',B)\n",
    "A_inv = np.linalg.inv(A)\n",
    "print(A_inv)\n",
    "X = A_inv.dot(B)\n",
    "print('X=',X)\n"
   ]
  },
  {
   "cell_type": "code",
   "execution_count": 10,
   "id": "a94a1a05-ad61-44ba-b7a8-73306899a95d",
   "metadata": {},
   "outputs": [
    {
     "name": "stdout",
     "output_type": "stream",
     "text": [
      "Solving a system of linear algebraic equations by Cramer*s method\n",
      "x= 2.0 y= 2.0 z= -3.0\n",
      "Checking the correctness of the solution\n",
      " [[ 2.]\n",
      " [ 2.]\n",
      " [-3.]]\n"
     ]
    }
   ],
   "source": [
    "a = np.matrix('4 1 4; 1 1 2; 2 1 2') \n",
    "b = np.matrix('-2; -2; 0') \n",
    "def kram(a,b): \n",
    "    det_a = np.linalg.det(a) \n",
    "    if det_a != 0: \n",
    "       a1 = np.matrix(a) \n",
    "       a2 = np.matrix(a) \n",
    "       a3 = np.matrix(a) \n",
    "       a1[:, 0] = b \n",
    "       a2[:, 1] = b \n",
    "       a3[:, 2] = b \n",
    "       x = np.linalg.det(a1)/det_a \n",
    "       y =np.linalg.det(a2)/det_a \n",
    "       z= np.linalg.det(a3)/det_a \n",
    "       print('Solving a system of linear algebraic equations by Cramer*s method') \n",
    "       print('x=',x.round(3),'y=',y.round(3),'z=',z.round(3))  \n",
    "    else: \n",
    "        print('Determinant equals zero, the system has no solutions') \n",
    "    return x,y,z \n",
    "kram(a,b) \n",
    "print('Checking the correctness of the solution\\n', np.linalg.solve(a,b).round(3))\n"
   ]
  },
  {
   "cell_type": "code",
   "execution_count": 11,
   "id": "03218fda-06d6-413f-9915-4fbb35824c7c",
   "metadata": {},
   "outputs": [
    {
     "name": "stdout",
     "output_type": "stream",
     "text": [
      "[[0 1 4 3]\n",
      " [1 3 0 1]\n",
      " [2 3 0 0]]\n",
      "[2.   1.25 1.25]\n",
      "Найнижче середнє значення: 1.25\n"
     ]
    }
   ],
   "source": [
    "a = np.array(np.random.randint(0,5, size=(3,4)))\n",
    "average_rows = np.mean(a, axis=1)\n",
    "minimum = np.min(average_rows)\n",
    "print(a)\n",
    "print(average_rows)\n",
    "\n",
    "print('Найнижче середнє значення:', minimum)\n"
   ]
  },
  {
   "cell_type": "code",
   "execution_count": null,
   "id": "51d054e4-b1a5-4e75-be0a-faaacf2ad672",
   "metadata": {},
   "outputs": [],
   "source": []
  }
 ],
 "metadata": {
  "kernelspec": {
   "display_name": "Python 3 (ipykernel)",
   "language": "python",
   "name": "python3"
  },
  "language_info": {
   "codemirror_mode": {
    "name": "ipython",
    "version": 3
   },
   "file_extension": ".py",
   "mimetype": "text/x-python",
   "name": "python",
   "nbconvert_exporter": "python",
   "pygments_lexer": "ipython3",
   "version": "3.11.5"
  }
 },
 "nbformat": 4,
 "nbformat_minor": 5
}
